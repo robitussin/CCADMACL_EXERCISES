{
  "nbformat": 4,
  "nbformat_minor": 0,
  "metadata": {
    "colab": {
      "provenance": [],
      "authorship_tag": "ABX9TyO0pKGTQHB9R6++5J2zfzEX",
      "include_colab_link": true
    },
    "kernelspec": {
      "name": "python3",
      "display_name": "Python 3"
    },
    "language_info": {
      "name": "python"
    }
  },
  "cells": [
    {
      "cell_type": "markdown",
      "metadata": {
        "id": "view-in-github",
        "colab_type": "text"
      },
      "source": [
        "<a href=\"https://colab.research.google.com/github/robitussin/CCADMACL_EXERCISES/blob/main/Exercise1.ipynb\" target=\"_parent\"><img src=\"https://colab.research.google.com/assets/colab-badge.svg\" alt=\"Open In Colab\"/></a>"
      ]
    },
    {
      "cell_type": "markdown",
      "source": [
        "# Exercise 1\n",
        "\n",
        "Use all feature selection methods to find the best features"
      ],
      "metadata": {
        "id": "wyguhJBCREPq"
      }
    },
    {
      "cell_type": "markdown",
      "source": [
        "## Dataset Information\n",
        "\n",
        "## Features\n",
        "\n",
        "Number of Instances: 20640\n",
        "\n",
        "Number of Attributes: 8 numeric, predictive attributes and the target\n",
        "\n",
        "Attribute Information:\n",
        "\n",
        "MedInc - median income in block group\n",
        "\n",
        "HouseAge - median house age in block group\n",
        "\n",
        "AveRooms - average number of rooms per household\n",
        "\n",
        "AveBedrms - average number of bedrooms per household\n",
        "\n",
        "Population - block group population\n",
        "\n",
        "AveOccup - average number of household members\n",
        "\n",
        "Latitude - block group latitude\n",
        "\n",
        "Longitude - block group longitude\n",
        "\n",
        "## Target\n",
        "The target variable is the median house value for California districts, expressed in hundreds of thousands of dollars ($100,000)."
      ],
      "metadata": {
        "id": "W1nEzxdXQbpH"
      }
    },
    {
      "cell_type": "code",
      "execution_count": null,
      "metadata": {
        "id": "ZAVjjtJ9PVED"
      },
      "outputs": [],
      "source": [
        "from sklearn.datasets import fetch_california_housing\n",
        "import pandas as pd"
      ]
    },
    {
      "cell_type": "code",
      "source": [
        "housing = fetch_california_housing(as_frame=True)\n",
        "df = pd.concat([housing.data, housing.target], axis=1)"
      ],
      "metadata": {
        "id": "N12mwL2GPX48"
      },
      "execution_count": null,
      "outputs": []
    },
    {
      "cell_type": "markdown",
      "source": [
        "1. Train a regression model using all features"
      ],
      "metadata": {
        "id": "UooxZZBy9JMC"
      }
    },
    {
      "cell_type": "code",
      "source": [
        "# put your answer here"
      ],
      "metadata": {
        "id": "b70m9Dv19MEy"
      },
      "execution_count": null,
      "outputs": []
    },
    {
      "cell_type": "markdown",
      "source": [
        "2. Use any filter method to select the best features and train a regression model"
      ],
      "metadata": {
        "id": "6tqvZqTtRgRe"
      }
    },
    {
      "cell_type": "code",
      "source": [
        "# put your answer here"
      ],
      "metadata": {
        "id": "K5DB6f6jRmUF"
      },
      "execution_count": null,
      "outputs": []
    },
    {
      "cell_type": "markdown",
      "source": [
        "3. Use any wrapper method to select the best features and train a regression model"
      ],
      "metadata": {
        "id": "eZ5kAdM7RpDD"
      }
    },
    {
      "cell_type": "code",
      "source": [
        "# put your answer here"
      ],
      "metadata": {
        "id": "h1godUPeRpTF"
      },
      "execution_count": null,
      "outputs": []
    },
    {
      "cell_type": "markdown",
      "source": [
        "4. Use any embedded method to select the best features by training a regression model"
      ],
      "metadata": {
        "id": "Kq82AZxvRvTe"
      }
    },
    {
      "cell_type": "code",
      "source": [
        "# put your answer here"
      ],
      "metadata": {
        "id": "-S8OQahTRyTM"
      },
      "execution_count": null,
      "outputs": []
    },
    {
      "cell_type": "markdown",
      "source": [
        "5. Evaluate the performance of all four models using RMSE or MSE"
      ],
      "metadata": {
        "id": "GBJmPIUy9F_4"
      }
    },
    {
      "cell_type": "code",
      "source": [
        "# put your answer here"
      ],
      "metadata": {
        "id": "mFpySO4H9Zy1"
      },
      "execution_count": null,
      "outputs": []
    }
  ]
}